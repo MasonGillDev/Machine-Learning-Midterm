{
 "cells": [
  {
   "cell_type": "code",
   "execution_count": null,
   "metadata": {},
   "outputs": [],
   "source": [
    "#packages\n",
    "from sklearn.model_selection import train_test_split\n",
    "from sklearn.preprocessing import StandardScaler\n",
    "import pandas as pd\n",
    "from sklearn.preprocessing import MinMaxScaler\n",
    "data = pd.read_csv('filtered_data.csv')\n",
    "from sklearn.linear_model import Perceptron\n",
    "from sklearn.metrics import classification_report\n",
    "import numpy as np\n",
    "from sklearn.neighbors import KNeighborsClassifier"
   ]
  },
  {
   "cell_type": "code",
   "execution_count": null,
   "metadata": {},
   "outputs": [],
   "source": [
    "#Data Pre-processing\n",
    "data['Unnamed: 0'] = data['Unnamed: 0'].apply(lambda x: 1 if x.startswith('brca') \n",
    "    else (2 if x.startswith('prad') \n",
    "        else (3 if x.startswith('luad') else  print(\"unexpected label\"))))\n",
    "\n",
    "\n",
    "X = data.drop(columns=['Unnamed: 0'])\n",
    "\n",
    "y = data['Unnamed: 0']\n",
    "\n",
    "scaler = MinMaxScaler()\n",
    "\n",
    "X_train, X_test, y_train, y_test = train_test_split(X, y, test_size=0.2, random_state=42)\n",
    "\n",
    "X_train_scaled = scaler.fit_transform(X_train)"
   ]
  },
  {
   "cell_type": "code",
   "execution_count": null,
   "metadata": {},
   "outputs": [],
   "source": [
    "#Training The models\n",
    "KNN = KNeighborsClassifier(metric='euclidean',n_neighbors=5, p=1,weights='distance'  )\n",
    "KNN.fit(X_train_scaled, y_train)\n",
    "\n",
    "\n",
    "\n",
    "\n",
    "\n",
    "\n",
    "\n",
    "\n",
    "\n",
    "\n"
   ]
  },
  {
   "cell_type": "code",
   "execution_count": null,
   "metadata": {},
   "outputs": [],
   "source": [
    "def prediction_avg(n1, n2, n3):\n",
    "    b = n1[0] + n2[0] + n3[0]\n",
    "    p = n1[1] + n2[1] + n3[1]\n",
    "    l = n1[2] + n2[2] + n3[2]\n",
    "    if b > p and b > l:\n",
    "        return b, \"1\"\n",
    "    if p > b and p > l:\n",
    "        return p, \"2\"\n",
    "    else:\n",
    "        return l, \"3\"\n",
    "    \n",
    "def prediction_high(n1, n2, n3):\n",
    "    b = max(n1)\n",
    "    p = max(n2)\n",
    "    l = max(n3)\n",
    "    if b > p and b > l:\n",
    "        return b, \"1\"\n",
    "    if p > b and p > l:\n",
    "        return p, \"2\"\n",
    "    else:\n",
    "        return l, \"3\""
   ]
  },
  {
   "cell_type": "code",
   "execution_count": null,
   "metadata": {},
   "outputs": [],
   "source": [
    "# Function that runs all the models for inference\n",
    "def predict(feature_data):\n",
    "    KNN_confidence_score = KNN.predict_propa(feature_data)\n",
    "    #Regression proba\n",
    "    #SVN proba\n",
    "\n",
    "    ypred = pd.DataFrame(index=range(len(KNN_confidence_score)), columns=['Prediction'])\n",
    "\n",
    "    for i in range(len(KNN_confidence_score)):\n",
    "        knn_score = KNN_confidence_score[i]\n",
    "        reg_score = Regression_confidence_score[i]\n",
    "        svm_score = SVM_confidence_score[i] #Regression and SVN\n",
    "        ypred.loc[i, 'Prediction'] = prediction_avg(knn_score,reg_score,svm_score)\n",
    "    return prediction_avg()\n"
   ]
  },
  {
   "cell_type": "code",
   "execution_count": null,
   "metadata": {},
   "outputs": [],
   "source": [
    "y_pred = predict(X_test)\n",
    "\n",
    "classification_report(y_test,y_pred)"
   ]
  }
 ],
 "metadata": {
  "kernelspec": {
   "display_name": "env",
   "language": "python",
   "name": "python3"
  },
  "language_info": {
   "name": "python",
   "version": "3.11.3"
  }
 },
 "nbformat": 4,
 "nbformat_minor": 2
}
