{
 "cells": [
  {
   "cell_type": "code",
   "execution_count": null,
   "metadata": {
    "vscode": {
     "languageId": "plaintext"
    }
   },
   "outputs": [],
   "source": [
    "import numpy as np\n",
    "import pandas as pd"
   ]
  },
  {
   "cell_type": "code",
   "execution_count": null,
   "metadata": {
    "vscode": {
     "languageId": "plaintext"
    }
   },
   "outputs": [],
   "source": [
    "a = [0.1, 0.15, 0.2]\n",
    "b = [0.2, 0.5, 0.8]\n",
    "c = [0.4, 0.2, 0.9]\n",
    "\n",
    "def prediction_avg(n1, n2, n3):\n",
    "    b = n1[0] + n2[0] + n3[0]\n",
    "    p = n1[1] + n2[1] + n3[1]\n",
    "    l = n1[2] + n2[2] + n3[2]\n",
    "    if b > p and b > l:\n",
    "        return b, \"b\"\n",
    "    if p > b and p > l:\n",
    "        return p, \"p\"\n",
    "    else:\n",
    "        return l, \"l\"\n",
    "\n",
    "print(prediction_avg(a,b,c))"
   ]
  },
  {
   "cell_type": "code",
   "execution_count": null,
   "metadata": {
    "vscode": {
     "languageId": "plaintext"
    }
   },
   "outputs": [],
   "source": [
    "def prediction_high(n1, n2, n3):\n",
    "    b = max(n1)\n",
    "    p = max(n2)\n",
    "    l = max(n3)\n",
    "    if b > p and b > l:\n",
    "        return b, \"b\"\n",
    "    if p > b and p > l:\n",
    "        return p, \"p\"\n",
    "    else:\n",
    "        return l, \"l\"\n",
    "    \n",
    "print(prediction_high(a,b,c))"
   ]
  }
 ],
 "metadata": {
  "language_info": {
   "name": "python"
  }
 },
 "nbformat": 4,
 "nbformat_minor": 2
}
